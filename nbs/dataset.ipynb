{
 "cells": [
  {
   "cell_type": "code",
   "execution_count": 3,
   "metadata": {},
   "outputs": [],
   "source": [
    "import os\n",
    "import glob\n",
    "import numpy as np"
   ]
  },
  {
   "cell_type": "code",
   "execution_count": 4,
   "metadata": {},
   "outputs": [],
   "source": [
    "class CameraParameters():\n",
    "    def __init__(self, fx, fy, cx, cy):\n",
    "        self.fx = fx\n",
    "        self.fy = fy\n",
    "        self.cx = cx\n",
    "        self.cy = cy\n",
    "\n",
    "    @property\n",
    "    def camera_matrix(self):\n",
    "        matrix = np.array([[self.fx, 0.0, self.cx],\n",
    "                           [0.0, self.fx, self.cy],\n",
    "                           [0.0, 0.0, 1.0]])\n",
    "        return matrix\n",
    "\n",
    "    def __call__(self):\n",
    "        return self.camera_matrix"
   ]
  },
  {
   "cell_type": "code",
   "execution_count": 5,
   "metadata": {},
   "outputs": [],
   "source": [
    "class KittiDataset():\n",
    "    \n",
    "    def __init__(self, path):\n",
    "        \n",
    "        self.images_path=os.path.join(path, 'image_0')\n",
    "        self.calibfile=os.path.join(path, 'calib.txt')\n",
    "        self.sequence_count=os.path.dirname(path).split('/')[-1]\n",
    "        self.gt_path=os.path.join(path, 'data_odometry_poses', 'dataset', 'poses', self.sequence_count + '.txt')\n",
    "        \n",
    "        self.ground_truth=self.load_ground_truth_pose(self.gt_path)\n",
    "        self.image_paths=self.load_image_paths(self.images_path)\n",
    "        self.camera_intrinsics=self.load_camera_parameters(self.calibfile)\n",
    "        \n",
    "        assert len(self.ground_truth)==len(self.image_paths)\n",
    "        \n",
    "    def convert_text_to_ground_truth(self, gt_line):\n",
    "        \n",
    "        matrix = np.array(gt_line.split()).reshape((3, 4)).astype(np.float32)\n",
    "        return matrix\n",
    "    \n",
    "    def load_ground_truth_pose(self, gt_path):\n",
    "        \n",
    "        ground_truth = None\n",
    "        if not os.path.exists(gt_path):\n",
    "            print(\"ground truth path is not found.\")\n",
    "            return None\n",
    "\n",
    "        ground_truth = []\n",
    "\n",
    "        with open(gt_path) as gt_file:\n",
    "            gt_lines = gt_file.readlines()\n",
    "\n",
    "            for gt_line in gt_lines:\n",
    "                pose = self.convert_text_to_ground_truth(gt_line)\n",
    "                ground_truth.append(pose)\n",
    "                \n",
    "        return ground_truth\n",
    "    \n",
    "    def load_image_paths(self, image_dir):\n",
    "        \n",
    "        img_paths = [os.path.join(image_dir,img_id) for img_id in os.listdir(image_dir) if os.path.isfile(os.path.join(image_dir, img_id))]\n",
    "        img_paths.sort()\n",
    "        return img_paths\n",
    "        \n",
    "    def load_camera_parameters(self, calibfile):\n",
    "        \n",
    "        if not os.path.exists(calibfile):\n",
    "            print(\"camera parameter file path is not found.\")\n",
    "            return None\n",
    "\n",
    "        with open(calibfile, 'r') as f:\n",
    "            line = f.readline()\n",
    "            part = line.split()\n",
    "            param = CameraParameters(float(part[1]), float(part[6]),\n",
    "                                     float(part[3]), float(part[7]))\n",
    "\n",
    "            return param\n",
    "        \n",
    "    def __len__(self):\n",
    "        \n",
    "        return len(self.image_paths)\n",
    "        \n",
    "    def __getitem__(self, index):\n",
    "        \n",
    "        img = cv2.imread(self.image_paths[index])\n",
    "        img = cv2.cvtColor(img, cv2.COLOR_BGR2GRAY)\n",
    "        \n",
    "        gr_truth = self.ground_truth[index]\n",
    "        \n",
    "        return img,gr_truth\n",
    " "
   ]
  },
  {
   "cell_type": "code",
   "execution_count": 6,
   "metadata": {},
   "outputs": [],
   "source": [
    "path = '../../KITTI/KITTI_gray/dataset/sequences/00/'"
   ]
  },
  {
   "cell_type": "code",
   "execution_count": 7,
   "metadata": {},
   "outputs": [],
   "source": [
    "dataset = KittiDataset(path)"
   ]
  },
  {
   "cell_type": "code",
   "execution_count": null,
   "metadata": {},
   "outputs": [],
   "source": []
  }
 ],
 "metadata": {
  "kernelspec": {
   "display_name": "dlg",
   "language": "python",
   "name": "dlg"
  },
  "language_info": {
   "codemirror_mode": {
    "name": "ipython",
    "version": 3
   },
   "file_extension": ".py",
   "mimetype": "text/x-python",
   "name": "python",
   "nbconvert_exporter": "python",
   "pygments_lexer": "ipython3",
   "version": "3.7.0"
  }
 },
 "nbformat": 4,
 "nbformat_minor": 2
}
