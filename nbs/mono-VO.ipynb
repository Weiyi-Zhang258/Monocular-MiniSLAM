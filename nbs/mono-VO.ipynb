{
 "cells": [
  {
   "cell_type": "code",
   "execution_count": 1,
   "metadata": {},
   "outputs": [],
   "source": [
    "import sys\n",
    "sys.path.insert(0,\"../\")"
   ]
  },
  {
   "cell_type": "code",
   "execution_count": 2,
   "metadata": {},
   "outputs": [],
   "source": [
    "import cv2"
   ]
  },
  {
   "cell_type": "code",
   "execution_count": 3,
   "metadata": {},
   "outputs": [],
   "source": [
    "from core.dataset import KittiDataset\n",
    "from core.geocom.features import featureTracking"
   ]
  },
  {
   "cell_type": "code",
   "execution_count": 4,
   "metadata": {},
   "outputs": [],
   "source": [
    "path = '../../KITTI/KITTI_gray/dataset/sequences/00/'"
   ]
  },
  {
   "cell_type": "code",
   "execution_count": 5,
   "metadata": {},
   "outputs": [],
   "source": [
    "dataset = KittiDataset(path)"
   ]
  },
  {
   "cell_type": "code",
   "execution_count": 13,
   "metadata": {},
   "outputs": [],
   "source": [
    "class VisuaOdometry():\n",
    "    \n",
    "    KMIN_NUM_FEATURE = 1500\n",
    "    \n",
    "    def __init__(self, camera_intrinsics, ground_pose,):\n",
    "        \n",
    "        self.K=camera_instrinsics\n",
    "        self.ground_pose=ground_pose\n",
    "        self.feature_tracker=featureTracking\n",
    "        self.detector=cv2.FastFeatureDetector_create(threshold=25, nonmaxSuppression=True)\n",
    "        self.cur_R=None\n",
    "        self.cur_t=None\n",
    "        self.prev_frame=None\n",
    "        \n",
    "    def getAbsoluteScale(self, frame_id):\n",
    "        \"\"\"\n",
    "        specialized for KITTI odometry dataset\n",
    "        \"\"\"\n",
    "        \n",
    "        gr_pose = self.ground_pose[frame_id-1]\n",
    "        x_prev = float(gr_pose[0][-1])\n",
    "        y_prev = float(gr_pose[1][-1])\n",
    "        z_prev = float(gr_pose[2][-1])\n",
    "        gr_pose = self.ground_pose[frame_id]\n",
    "        x = float(gr_pose[0][-1])\n",
    "        y = float(gr_pose[1][-1])\n",
    "        z = float(gr_pose[2][-1])\n",
    "        self.trueX, self.trueY, self.trueZ = x, y, z\n",
    "        return np.sqrt((x - x_prev)*(x - x_prev) + (y - y_prev)*(y - y_prev) + (z - z_prev)*(z - z_prev))\n",
    "        \n",
    "    def __call__(self, stage, current_frame):\n",
    "        \n",
    "        if stage==0:\n",
    "            #process first frame\n",
    "            self.points_ref=self.detector.detect(curent_frame)\n",
    "            self.points_ref=np.array([x.pt for x in self.points_ref])\n",
    "        elif stage==1:\n",
    "            #process second frame\n",
    "            self.points_ref, points_cur = self.feature_tracker(self.prev_frame, current_frame, self.px_ref)\n",
    "            E, mask = cv2.findEssentialMat(points_cur, self.px_ref, self.K, method=cv2.RANSAC, prob=0.999, thresold=1.0)\n",
    "            _, self.cur_R, self.cur_t = cv2.recoverPose(E, points_cur, self.points_ref, self.K)\n",
    "            self.points_ref = self.points_cur\n",
    "        elif stage>1:\n",
    "            #process subsequent frames after first 2 frames\n",
    "            self.points_ref, points_cur = self.feature_tracker(self.prev_frame, current_frame, self.px_ref)\n",
    "            E, mask = cv2.findEssentialMat(points_cur, self.px_ref, self.K, method=cv2.RANSAC, prob=0.999, thresold=1.0)\n",
    "            _, R, t = cv2.recoverPose(E, points_cur, self.points_ref, self.K)\n",
    "            absolute_scale = self.getAbsoluteScale(frame_id)\n",
    "            if absolute_scale>0.1:\n",
    "                self.cur_t=self.cur_t + absolute_scale*R@t\n",
    "                self.cur_R=R@self.cur_R\n",
    "            if(self.points_ref.shape[0]<KMIN_NUM_FEATURE):\n",
    "                points_cur=self.detector.detect(current_frame)\n",
    "                points_cur=np.array([x.pt for x in points_cur], dtype=np.float32)\n",
    "            self.points_ref=points_cur\n",
    "            \n",
    "        self.prev_frame=currrent_frame\n",
    "        \n",
    "        return"
   ]
  },
  {
   "cell_type": "code",
   "execution_count": null,
   "metadata": {},
   "outputs": [],
   "source": []
  }
 ],
 "metadata": {
  "kernelspec": {
   "display_name": "dlg",
   "language": "python",
   "name": "dlg"
  },
  "language_info": {
   "codemirror_mode": {
    "name": "ipython",
    "version": 3
   },
   "file_extension": ".py",
   "mimetype": "text/x-python",
   "name": "python",
   "nbconvert_exporter": "python",
   "pygments_lexer": "ipython3",
   "version": "3.7.0"
  }
 },
 "nbformat": 4,
 "nbformat_minor": 2
}
